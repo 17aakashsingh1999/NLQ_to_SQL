{
 "cells": [
  {
   "cell_type": "code",
   "execution_count": 13,
   "metadata": {},
   "outputs": [],
   "source": [
    "import json"
   ]
  },
  {
   "cell_type": "code",
   "execution_count": 14,
   "metadata": {},
   "outputs": [
    {
     "name": "stdout",
     "output_type": "stream",
     "text": [
      "1-10015132-16\n",
      "['Player', 'No.', 'Nationality', 'Position', 'Years in Toronto', 'School/Club Team']\n",
      "1-10083598-1\n",
      "['No', 'Date', 'Round', 'Circuit', 'Pole Position', 'Fastest Lap', 'Race winner', 'Report']\n",
      "1-1013129-2\n",
      "['Pick', 'Player', 'Position', 'Nationality', 'NHL team', 'College/junior/club team']\n",
      "1-1013129-3\n",
      "['Pick', 'Player', 'Position', 'Nationality', 'NHL team', 'College/junior/club team']\n",
      "1-1014206-2\n",
      "['#', 'Shipyard', 'Laid down', 'Launched', 'Commissioned', 'Fleet', 'Status']\n"
     ]
    }
   ],
   "source": [
    "with open('test1.tables.jsonl') as f:\n",
    "    data1 = json.load(f)\n",
    "\n",
    "with open('test2.tables.jsonl') as f:\n",
    "    data2 = json.load(f)\n",
    "    \n",
    "\n",
    "with open('test3.tables.jsonl') as f:\n",
    "    data3 = json.load(f)\n",
    "\n",
    "with open('test4.tables.jsonl') as f:\n",
    "    data4 = json.load(f)\n",
    "    \n",
    "\n",
    "with open('test5.tables.jsonl') as f:\n",
    "    data5 = json.load(f)\n",
    "\n",
    "for i in [data1, data2, data3, data4, data5]:\n",
    "    print(i['id'])\n",
    "    print(i['header'])"
   ]
  },
  {
   "cell_type": "code",
   "execution_count": 29,
   "metadata": {},
   "outputs": [
    {
     "name": "stdout",
     "output_type": "stream",
     "text": [
      "enter a questionwhat is terrence ross's nationality?\n"
     ]
    }
   ],
   "source": [
    "dict ={}\n",
    "dict[\"phase\"]= 1\n",
    "dict[\"question\"]= input(\"enter a question\")\n"
   ]
  },
  {
   "cell_type": "code",
   "execution_count": 35,
   "metadata": {},
   "outputs": [
    {
     "name": "stdout",
     "output_type": "stream",
     "text": [
      "enter a table_id1-10015132-16\n"
     ]
    }
   ],
   "source": [
    "dict[\"sql\"]= {\n",
    "      \"conds\":[\n",
    "         [\n",
    "            0,\n",
    "            0,\n",
    "            \"1998\"\n",
    "         ]\n",
    "      ],\n",
    "      \"sel\":1,t\n",
    "      \"agg\":0\n",
    "   }\n",
    "dict[\"table_id\"]= input(\"enter a table_id\")\n"
   ]
  },
  {
   "cell_type": "code",
   "execution_count": 36,
   "metadata": {},
   "outputs": [],
   "source": [
    "with open('/home/palak/coarse2fine/c2f/data_model/wikisql/data/User_Input.jsonl', 'w') as file:\n",
    "     file.write(json.dumps(dict)) "
   ]
  },
  {
   "cell_type": "code",
   "execution_count": 32,
   "metadata": {},
   "outputs": [],
   "source": [
    "agg_ops = ['', 'MAX', 'MIN', 'COUNT', 'SUM', 'AVG']"
   ]
  },
  {
   "cell_type": "code",
   "execution_count": 37,
   "metadata": {},
   "outputs": [
    {
     "name": "stdout",
     "output_type": "stream",
     "text": [
      "/home/palak/coarse2fine/c2f/data_model/wikisql/run.4/m_34.pt\n",
      "/home/palak/coarse2fine/c2f/data_model/wikisql/annotated_ent/User_Input.jsonl\n",
      "Loading model\n",
      "THCudaCheck FAIL file=/opt/conda/conda-bld/pytorch_1518244421288/work/torch/lib/THC/generic/THCStorage.cu line=58 error=4 : unspecified launch failure\n",
      "Traceback (most recent call last):\n",
      "  File \"evaluate.py\", line 86, in <module>\n",
      "    main()\n",
      "  File \"evaluate.py\", line 55, in main\n",
      "    translator = table.Translator(opt, dummy_opt.__dict__)\n",
      "  File \"/home/palak/coarse2fine/c2f/wikisql/table/Translator.py\", line 35, in __init__\n",
      "    model_opt, self.fields, checkpoint)\n",
      "  File \"/home/palak/coarse2fine/c2f/wikisql/table/ModelConstructor.py\", line 140, in make_base_model\n",
      "    model.cuda()\n",
      "  File \"/home/palak/anaconda3/lib/python3.6/site-packages/torch/nn/modules/module.py\", line 216, in cuda\n",
      "    return self._apply(lambda t: t.cuda(device))\n",
      "  File \"/home/palak/anaconda3/lib/python3.6/site-packages/torch/nn/modules/module.py\", line 146, in _apply\n",
      "    module._apply(fn)\n",
      "  File \"/home/palak/anaconda3/lib/python3.6/site-packages/torch/nn/modules/module.py\", line 146, in _apply\n",
      "    module._apply(fn)\n",
      "  File \"/home/palak/anaconda3/lib/python3.6/site-packages/torch/nn/modules/module.py\", line 146, in _apply\n",
      "    module._apply(fn)\n",
      "  File \"/home/palak/anaconda3/lib/python3.6/site-packages/torch/nn/modules/module.py\", line 152, in _apply\n",
      "    param.data = fn(param.data)\n",
      "  File \"/home/palak/anaconda3/lib/python3.6/site-packages/torch/nn/modules/module.py\", line 216, in <lambda>\n",
      "    return self._apply(lambda t: t.cuda(device))\n",
      "  File \"/home/palak/anaconda3/lib/python3.6/site-packages/torch/_utils.py\", line 69, in _cuda\n",
      "    return new_type(self.size()).copy_(self, async)\n",
      "  File \"/home/palak/anaconda3/lib/python3.6/site-packages/torch/cuda/__init__.py\", line 387, in _lazy_new\n",
      "    return super(_CudaBase, cls).__new__(cls, *args, **kwargs)\n",
      "RuntimeError: cuda runtime error (4) : unspecified launch failure at /opt/conda/conda-bld/pytorch_1518244421288/work/torch/lib/THC/generic/THCStorage.cu:58\n"
     ]
    }
   ],
   "source": [
    "!python evaluate.py -split User_Input -data_path \"/home/palak/coarse2fine/c2f/data_model/wikisql\" -model_path \"/home/palak/coarse2fine/c2f/data_model/wikisql/run.4/m_34.pt\"\n"
   ]
  }
 ],
 "metadata": {
  "kernelspec": {
   "display_name": "Python 3",
   "language": "python",
   "name": "python3"
  },
  "language_info": {
   "codemirror_mode": {
    "name": "ipython",
    "version": 3
   },
   "file_extension": ".py",
   "mimetype": "text/x-python",
   "name": "python",
   "nbconvert_exporter": "python",
   "pygments_lexer": "ipython3",
   "version": "3.6.8"
  }
 },
 "nbformat": 4,
 "nbformat_minor": 2
}
