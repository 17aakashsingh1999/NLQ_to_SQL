{
 "cells": [
  {
   "cell_type": "code",
   "execution_count": 27,
   "metadata": {},
   "outputs": [],
   "source": [
    "import json\n",
    "\n",
    "\n",
    "with open('test1.tables.jsonl') as f:\n",
    "    data1 = json.load(f)\n",
    "\n",
    "with open('test2.tables.jsonl') as f:\n",
    "    data2 = json.load(f)\n",
    "    \n",
    "\n",
    "with open('test3.tables.jsonl') as f:\n",
    "    data3 = json.load(f)\n",
    "\n",
    "with open('test4.tables.jsonl') as f:\n",
    "    data4 = json.load(f)\n",
    "    \n",
    "\n",
    "with open('test5.tables.jsonl') as f:\n",
    "    data5 = json.load(f)\n",
    "\n",
    "\n",
    "\n"
   ]
  },
  {
   "cell_type": "code",
   "execution_count": 28,
   "metadata": {},
   "outputs": [
    {
     "data": {
      "text/plain": [
       "'1-10015132-16'"
      ]
     },
     "execution_count": 28,
     "metadata": {},
     "output_type": "execute_result"
    }
   ],
   "source": [
    "data1[\"id\"]"
   ]
  },
  {
   "cell_type": "code",
   "execution_count": 29,
   "metadata": {},
   "outputs": [
    {
     "data": {
      "text/plain": [
       "['Player',\n",
       " 'No.',\n",
       " 'Nationality',\n",
       " 'Position',\n",
       " 'Years in Toronto',\n",
       " 'School/Club Team']"
      ]
     },
     "execution_count": 29,
     "metadata": {},
     "output_type": "execute_result"
    }
   ],
   "source": [
    "data1['header']"
   ]
  },
  {
   "cell_type": "code",
   "execution_count": 31,
   "metadata": {},
   "outputs": [
    {
     "name": "stdout",
     "output_type": "stream",
     "text": [
      "1-10015132-16\n",
      "['Player', 'No.', 'Nationality', 'Position', 'Years in Toronto', 'School/Club Team']\n",
      "1-10083598-1\n",
      "['No', 'Date', 'Round', 'Circuit', 'Pole Position', 'Fastest Lap', 'Race winner', 'Report']\n",
      "1-1013129-2\n",
      "['Pick', 'Player', 'Position', 'Nationality', 'NHL team', 'College/junior/club team']\n",
      "1-1013129-3\n",
      "['Pick', 'Player', 'Position', 'Nationality', 'NHL team', 'College/junior/club team']\n",
      "1-1014206-2\n",
      "['#', 'Shipyard', 'Laid down', 'Launched', 'Commissioned', 'Fleet', 'Status']\n"
     ]
    }
   ],
   "source": [
    "for i in [data1, data2, data3, data4, data5]:\n",
    "    print(i['id'])\n",
    "    print(i['header'])"
   ]
  },
  {
   "cell_type": "code",
   "execution_count": null,
   "metadata": {},
   "outputs": [],
   "source": []
  }
 ],
 "metadata": {
  "kernelspec": {
   "display_name": "Python 3",
   "language": "python",
   "name": "python3"
  },
  "language_info": {
   "codemirror_mode": {
    "name": "ipython",
    "version": 3
   },
   "file_extension": ".py",
   "mimetype": "text/x-python",
   "name": "python",
   "nbconvert_exporter": "python",
   "pygments_lexer": "ipython3",
   "version": "3.7.1"
  }
 },
 "nbformat": 4,
 "nbformat_minor": 2
}
